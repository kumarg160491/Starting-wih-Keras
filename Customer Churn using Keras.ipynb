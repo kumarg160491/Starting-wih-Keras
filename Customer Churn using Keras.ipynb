{
 "cells": [
  {
   "cell_type": "code",
   "execution_count": 45,
   "metadata": {},
   "outputs": [],
   "source": [
    "#!pip install keras"
   ]
  },
  {
   "cell_type": "code",
   "execution_count": 46,
   "metadata": {},
   "outputs": [],
   "source": [
    "#importing libraries\n",
    "import pandas as pd\n",
    "import numpy as np\n",
    "import matplotlib.pyplot as plt\n",
    "import seaborn as sns"
   ]
  },
  {
   "cell_type": "code",
   "execution_count": 47,
   "metadata": {},
   "outputs": [
    {
     "data": {
      "text/html": [
       "<div>\n",
       "<style scoped>\n",
       "    .dataframe tbody tr th:only-of-type {\n",
       "        vertical-align: middle;\n",
       "    }\n",
       "\n",
       "    .dataframe tbody tr th {\n",
       "        vertical-align: top;\n",
       "    }\n",
       "\n",
       "    .dataframe thead th {\n",
       "        text-align: right;\n",
       "    }\n",
       "</style>\n",
       "<table border=\"1\" class=\"dataframe\">\n",
       "  <thead>\n",
       "    <tr style=\"text-align: right;\">\n",
       "      <th></th>\n",
       "      <th>RowNumber</th>\n",
       "      <th>CustomerId</th>\n",
       "      <th>Surname</th>\n",
       "      <th>CreditScore</th>\n",
       "      <th>Geography</th>\n",
       "      <th>Gender</th>\n",
       "      <th>Age</th>\n",
       "      <th>Tenure</th>\n",
       "      <th>Balance</th>\n",
       "      <th>NumOfProducts</th>\n",
       "      <th>HasCrCard</th>\n",
       "      <th>IsActiveMember</th>\n",
       "      <th>EstimatedSalary</th>\n",
       "      <th>Exited</th>\n",
       "    </tr>\n",
       "  </thead>\n",
       "  <tbody>\n",
       "    <tr>\n",
       "      <td>0</td>\n",
       "      <td>1</td>\n",
       "      <td>15634602</td>\n",
       "      <td>Hargrave</td>\n",
       "      <td>619</td>\n",
       "      <td>France</td>\n",
       "      <td>Female</td>\n",
       "      <td>42</td>\n",
       "      <td>2</td>\n",
       "      <td>0.00</td>\n",
       "      <td>1</td>\n",
       "      <td>1</td>\n",
       "      <td>1</td>\n",
       "      <td>101348.88</td>\n",
       "      <td>1</td>\n",
       "    </tr>\n",
       "    <tr>\n",
       "      <td>1</td>\n",
       "      <td>2</td>\n",
       "      <td>15647311</td>\n",
       "      <td>Hill</td>\n",
       "      <td>608</td>\n",
       "      <td>Spain</td>\n",
       "      <td>Female</td>\n",
       "      <td>41</td>\n",
       "      <td>1</td>\n",
       "      <td>83807.86</td>\n",
       "      <td>1</td>\n",
       "      <td>0</td>\n",
       "      <td>1</td>\n",
       "      <td>112542.58</td>\n",
       "      <td>0</td>\n",
       "    </tr>\n",
       "    <tr>\n",
       "      <td>2</td>\n",
       "      <td>3</td>\n",
       "      <td>15619304</td>\n",
       "      <td>Onio</td>\n",
       "      <td>502</td>\n",
       "      <td>France</td>\n",
       "      <td>Female</td>\n",
       "      <td>42</td>\n",
       "      <td>8</td>\n",
       "      <td>159660.80</td>\n",
       "      <td>3</td>\n",
       "      <td>1</td>\n",
       "      <td>0</td>\n",
       "      <td>113931.57</td>\n",
       "      <td>1</td>\n",
       "    </tr>\n",
       "    <tr>\n",
       "      <td>3</td>\n",
       "      <td>4</td>\n",
       "      <td>15701354</td>\n",
       "      <td>Boni</td>\n",
       "      <td>699</td>\n",
       "      <td>France</td>\n",
       "      <td>Female</td>\n",
       "      <td>39</td>\n",
       "      <td>1</td>\n",
       "      <td>0.00</td>\n",
       "      <td>2</td>\n",
       "      <td>0</td>\n",
       "      <td>0</td>\n",
       "      <td>93826.63</td>\n",
       "      <td>0</td>\n",
       "    </tr>\n",
       "    <tr>\n",
       "      <td>4</td>\n",
       "      <td>5</td>\n",
       "      <td>15737888</td>\n",
       "      <td>Mitchell</td>\n",
       "      <td>850</td>\n",
       "      <td>Spain</td>\n",
       "      <td>Female</td>\n",
       "      <td>43</td>\n",
       "      <td>2</td>\n",
       "      <td>125510.82</td>\n",
       "      <td>1</td>\n",
       "      <td>1</td>\n",
       "      <td>1</td>\n",
       "      <td>79084.10</td>\n",
       "      <td>0</td>\n",
       "    </tr>\n",
       "  </tbody>\n",
       "</table>\n",
       "</div>"
      ],
      "text/plain": [
       "   RowNumber  CustomerId   Surname  CreditScore Geography  Gender  Age  \\\n",
       "0          1    15634602  Hargrave          619    France  Female   42   \n",
       "1          2    15647311      Hill          608     Spain  Female   41   \n",
       "2          3    15619304      Onio          502    France  Female   42   \n",
       "3          4    15701354      Boni          699    France  Female   39   \n",
       "4          5    15737888  Mitchell          850     Spain  Female   43   \n",
       "\n",
       "   Tenure    Balance  NumOfProducts  HasCrCard  IsActiveMember  \\\n",
       "0       2       0.00              1          1               1   \n",
       "1       1   83807.86              1          0               1   \n",
       "2       8  159660.80              3          1               0   \n",
       "3       1       0.00              2          0               0   \n",
       "4       2  125510.82              1          1               1   \n",
       "\n",
       "   EstimatedSalary  Exited  \n",
       "0        101348.88       1  \n",
       "1        112542.58       0  \n",
       "2        113931.57       1  \n",
       "3         93826.63       0  \n",
       "4         79084.10       0  "
      ]
     },
     "execution_count": 47,
     "metadata": {},
     "output_type": "execute_result"
    }
   ],
   "source": [
    "#reading csv file\n",
    "df=pd.read_csv('Churn_Modelling.csv')\n",
    "df.head()"
   ]
  },
  {
   "cell_type": "code",
   "execution_count": 48,
   "metadata": {},
   "outputs": [],
   "source": [
    "#splitting data into x\n",
    "x=df.iloc[:,3:13].values\n"
   ]
  },
  {
   "cell_type": "code",
   "execution_count": 49,
   "metadata": {},
   "outputs": [],
   "source": [
    "#splitting data into y\n",
    "y=df.iloc[:,13]\n"
   ]
  },
  {
   "cell_type": "code",
   "execution_count": 50,
   "metadata": {},
   "outputs": [],
   "source": [
    "from sklearn.preprocessing import LabelEncoder, OneHotEncoder"
   ]
  },
  {
   "cell_type": "code",
   "execution_count": 51,
   "metadata": {},
   "outputs": [],
   "source": [
    "labelencoder_cs=LabelEncoder()"
   ]
  },
  {
   "cell_type": "code",
   "execution_count": 52,
   "metadata": {},
   "outputs": [],
   "source": [
    "x[:,1]=labelencoder_cs.fit_transform(x[:,1])"
   ]
  },
  {
   "cell_type": "code",
   "execution_count": 53,
   "metadata": {},
   "outputs": [],
   "source": [
    "labelencoder_gender=LabelEncoder()"
   ]
  },
  {
   "cell_type": "code",
   "execution_count": 54,
   "metadata": {},
   "outputs": [],
   "source": [
    "x[:,2]=labelencoder_gender.fit_transform(x[:,2])"
   ]
  },
  {
   "cell_type": "code",
   "execution_count": 55,
   "metadata": {},
   "outputs": [],
   "source": [
    "from sklearn.model_selection import train_test_split"
   ]
  },
  {
   "cell_type": "code",
   "execution_count": 56,
   "metadata": {},
   "outputs": [],
   "source": [
    "x_train,x_test,y_train,y_test=train_test_split(x,y,test_size=0.3,random_state=0)"
   ]
  },
  {
   "cell_type": "code",
   "execution_count": 57,
   "metadata": {},
   "outputs": [],
   "source": [
    "from sklearn.preprocessing import StandardScaler"
   ]
  },
  {
   "cell_type": "code",
   "execution_count": 58,
   "metadata": {},
   "outputs": [],
   "source": [
    "ss= StandardScaler()"
   ]
  },
  {
   "cell_type": "code",
   "execution_count": 59,
   "metadata": {},
   "outputs": [
    {
     "name": "stderr",
     "output_type": "stream",
     "text": [
      "/home/gaurav/anaconda3/lib/python3.6/site-packages/sklearn/utils/validation.py:595: DataConversionWarning: Data with input dtype object was converted to float64 by StandardScaler.\n",
      "  warnings.warn(msg, DataConversionWarning)\n",
      "/home/gaurav/anaconda3/lib/python3.6/site-packages/sklearn/utils/validation.py:595: DataConversionWarning: Data with input dtype object was converted to float64 by StandardScaler.\n",
      "  warnings.warn(msg, DataConversionWarning)\n",
      "/home/gaurav/anaconda3/lib/python3.6/site-packages/sklearn/utils/validation.py:595: DataConversionWarning: Data with input dtype object was converted to float64 by StandardScaler.\n",
      "  warnings.warn(msg, DataConversionWarning)\n",
      "/home/gaurav/anaconda3/lib/python3.6/site-packages/sklearn/utils/validation.py:595: DataConversionWarning: Data with input dtype object was converted to float64 by StandardScaler.\n",
      "  warnings.warn(msg, DataConversionWarning)\n"
     ]
    }
   ],
   "source": [
    "x_train=ss.fit_transform(x_train)\n",
    "x_test=ss.fit_transform(x_test)"
   ]
  },
  {
   "cell_type": "code",
   "execution_count": 60,
   "metadata": {},
   "outputs": [
    {
     "data": {
      "text/plain": [
       "((7000, 10), (3000, 10), (7000,), (3000,))"
      ]
     },
     "execution_count": 60,
     "metadata": {},
     "output_type": "execute_result"
    }
   ],
   "source": [
    "x_train.shape,x_test.shape,y_train.shape,y_test.shape"
   ]
  },
  {
   "cell_type": "code",
   "execution_count": 61,
   "metadata": {},
   "outputs": [],
   "source": [
    "import keras\n",
    "from keras.models import Sequential\n",
    "from keras.layers import Dense\n",
    "from keras.layers import LeakyReLU,PReLU,ELU\n",
    "from keras.layers import Dropout"
   ]
  },
  {
   "cell_type": "code",
   "execution_count": 62,
   "metadata": {},
   "outputs": [],
   "source": [
    "classifier=Sequential()"
   ]
  },
  {
   "cell_type": "code",
   "execution_count": 63,
   "metadata": {},
   "outputs": [],
   "source": [
    "classifier.add(Dense(units=6,activation='relu',kernel_initializer='he_uniform',input_dim=10))"
   ]
  },
  {
   "cell_type": "code",
   "execution_count": 64,
   "metadata": {},
   "outputs": [],
   "source": [
    "classifier.add(Dense(units=6,activation='relu',kernel_initializer='he_uniform'))"
   ]
  },
  {
   "cell_type": "code",
   "execution_count": 65,
   "metadata": {},
   "outputs": [],
   "source": [
    "classifier.add(Dense(units=1,activation='sigmoid',kernel_initializer='glorot_uniform'))"
   ]
  },
  {
   "cell_type": "code",
   "execution_count": 66,
   "metadata": {},
   "outputs": [
    {
     "name": "stdout",
     "output_type": "stream",
     "text": [
      "Model: \"sequential_2\"\n",
      "_________________________________________________________________\n",
      "Layer (type)                 Output Shape              Param #   \n",
      "=================================================================\n",
      "dense_4 (Dense)              (None, 6)                 66        \n",
      "_________________________________________________________________\n",
      "dense_5 (Dense)              (None, 6)                 42        \n",
      "_________________________________________________________________\n",
      "dense_6 (Dense)              (None, 1)                 7         \n",
      "=================================================================\n",
      "Total params: 115\n",
      "Trainable params: 115\n",
      "Non-trainable params: 0\n",
      "_________________________________________________________________\n"
     ]
    }
   ],
   "source": [
    "classifier.summary()"
   ]
  },
  {
   "cell_type": "code",
   "execution_count": 67,
   "metadata": {},
   "outputs": [],
   "source": [
    "classifier.compile(optimizer='adam',\n",
    "    loss='binary_crossentropy',\n",
    "    metrics=['accuracy'],\n",
    "    loss_weights=None,\n",
    "    sample_weight_mode=None,\n",
    "    weighted_metrics=None,\n",
    "    target_tensors=None,)"
   ]
  },
  {
   "cell_type": "code",
   "execution_count": 68,
   "metadata": {},
   "outputs": [
    {
     "name": "stdout",
     "output_type": "stream",
     "text": [
      "Train on 4689 samples, validate on 2311 samples\n",
      "Epoch 1/100\n",
      "4689/4689 [==============================] - 2s 322us/step - loss: 0.5410 - accuracy: 0.7970 - val_loss: 0.4925 - val_accuracy: 0.7962\n",
      "Epoch 2/100\n",
      "4689/4689 [==============================] - 1s 260us/step - loss: 0.4762 - accuracy: 0.7985 - val_loss: 0.4677 - val_accuracy: 0.7962\n",
      "Epoch 3/100\n",
      "4689/4689 [==============================] - 1s 294us/step - loss: 0.4556 - accuracy: 0.7985 - val_loss: 0.4556 - val_accuracy: 0.7962\n",
      "Epoch 4/100\n",
      "4689/4689 [==============================] - 1s 286us/step - loss: 0.4456 - accuracy: 0.7985 - val_loss: 0.4490 - val_accuracy: 0.7962\n",
      "Epoch 5/100\n",
      "4689/4689 [==============================] - 1s 260us/step - loss: 0.4390 - accuracy: 0.7985 - val_loss: 0.4449 - val_accuracy: 0.7962\n",
      "Epoch 6/100\n",
      "4689/4689 [==============================] - 1s 263us/step - loss: 0.4346 - accuracy: 0.8000 - val_loss: 0.4427 - val_accuracy: 0.7992\n",
      "Epoch 7/100\n",
      "4689/4689 [==============================] - 1s 263us/step - loss: 0.4309 - accuracy: 0.8059 - val_loss: 0.4410 - val_accuracy: 0.8048\n",
      "Epoch 8/100\n",
      "4689/4689 [==============================] - 1s 263us/step - loss: 0.4280 - accuracy: 0.8100 - val_loss: 0.4385 - val_accuracy: 0.8074\n",
      "Epoch 9/100\n",
      "4689/4689 [==============================] - 1s 266us/step - loss: 0.4259 - accuracy: 0.8134 - val_loss: 0.4375 - val_accuracy: 0.8057\n",
      "Epoch 10/100\n",
      "4689/4689 [==============================] - 1s 312us/step - loss: 0.4236 - accuracy: 0.8160 - val_loss: 0.4353 - val_accuracy: 0.8083\n",
      "Epoch 11/100\n",
      "4689/4689 [==============================] - 1s 290us/step - loss: 0.4221 - accuracy: 0.8194 - val_loss: 0.4352 - val_accuracy: 0.8113\n",
      "Epoch 12/100\n",
      "4689/4689 [==============================] - 1s 270us/step - loss: 0.4203 - accuracy: 0.8224 - val_loss: 0.4330 - val_accuracy: 0.8122\n",
      "Epoch 13/100\n",
      "4689/4689 [==============================] - 1s 271us/step - loss: 0.4194 - accuracy: 0.8219 - val_loss: 0.4320 - val_accuracy: 0.8165\n",
      "Epoch 14/100\n",
      "4689/4689 [==============================] - 2s 334us/step - loss: 0.4183 - accuracy: 0.8251 - val_loss: 0.4313 - val_accuracy: 0.8157\n",
      "Epoch 15/100\n",
      "4689/4689 [==============================] - 1s 272us/step - loss: 0.4169 - accuracy: 0.8238 - val_loss: 0.4306 - val_accuracy: 0.8200\n",
      "Epoch 16/100\n",
      "4689/4689 [==============================] - 1s 276us/step - loss: 0.4165 - accuracy: 0.8241 - val_loss: 0.4300 - val_accuracy: 0.8200\n",
      "Epoch 17/100\n",
      "4689/4689 [==============================] - 1s 284us/step - loss: 0.4151 - accuracy: 0.8264 - val_loss: 0.4291 - val_accuracy: 0.8183\n",
      "Epoch 18/100\n",
      "4689/4689 [==============================] - 1s 315us/step - loss: 0.4146 - accuracy: 0.8281 - val_loss: 0.4285 - val_accuracy: 0.8200\n",
      "Epoch 19/100\n",
      "4689/4689 [==============================] - 1s 273us/step - loss: 0.4135 - accuracy: 0.8273 - val_loss: 0.4275 - val_accuracy: 0.8200\n",
      "Epoch 20/100\n",
      "4689/4689 [==============================] - 1s 279us/step - loss: 0.4129 - accuracy: 0.8283 - val_loss: 0.4270 - val_accuracy: 0.8209\n",
      "Epoch 21/100\n",
      "4689/4689 [==============================] - 1s 265us/step - loss: 0.4118 - accuracy: 0.8307 - val_loss: 0.4261 - val_accuracy: 0.8209\n",
      "Epoch 22/100\n",
      "4689/4689 [==============================] - 1s 315us/step - loss: 0.4107 - accuracy: 0.8300 - val_loss: 0.4260 - val_accuracy: 0.8196\n",
      "Epoch 23/100\n",
      "4689/4689 [==============================] - 1s 303us/step - loss: 0.4103 - accuracy: 0.8324 - val_loss: 0.4250 - val_accuracy: 0.8230\n",
      "Epoch 24/100\n",
      "4689/4689 [==============================] - 1s 284us/step - loss: 0.4096 - accuracy: 0.8339 - val_loss: 0.4246 - val_accuracy: 0.8230\n",
      "Epoch 25/100\n",
      "4689/4689 [==============================] - 1s 313us/step - loss: 0.4087 - accuracy: 0.8322 - val_loss: 0.4267 - val_accuracy: 0.8243\n",
      "Epoch 26/100\n",
      "4689/4689 [==============================] - 1s 298us/step - loss: 0.4081 - accuracy: 0.8337 - val_loss: 0.4237 - val_accuracy: 0.8226\n",
      "Epoch 27/100\n",
      "4689/4689 [==============================] - 1s 275us/step - loss: 0.4076 - accuracy: 0.8328 - val_loss: 0.4240 - val_accuracy: 0.8230\n",
      "Epoch 28/100\n",
      "4689/4689 [==============================] - 1s 269us/step - loss: 0.4070 - accuracy: 0.8354 - val_loss: 0.4256 - val_accuracy: 0.8230\n",
      "Epoch 29/100\n",
      "4689/4689 [==============================] - 1s 286us/step - loss: 0.4067 - accuracy: 0.8334 - val_loss: 0.4235 - val_accuracy: 0.8226\n",
      "Epoch 30/100\n",
      "4689/4689 [==============================] - 1s 275us/step - loss: 0.4058 - accuracy: 0.8354 - val_loss: 0.4221 - val_accuracy: 0.8222\n",
      "Epoch 31/100\n",
      "4689/4689 [==============================] - 1s 268us/step - loss: 0.4053 - accuracy: 0.8332 - val_loss: 0.4225 - val_accuracy: 0.8248\n",
      "Epoch 32/100\n",
      "4689/4689 [==============================] - 1s 285us/step - loss: 0.4045 - accuracy: 0.8345 - val_loss: 0.4218 - val_accuracy: 0.8235\n",
      "Epoch 33/100\n",
      "4689/4689 [==============================] - 1s 286us/step - loss: 0.4043 - accuracy: 0.8339 - val_loss: 0.4207 - val_accuracy: 0.8243\n",
      "Epoch 34/100\n",
      "4689/4689 [==============================] - 1s 310us/step - loss: 0.4040 - accuracy: 0.8337 - val_loss: 0.4210 - val_accuracy: 0.8252\n",
      "Epoch 35/100\n",
      "4689/4689 [==============================] - 2s 366us/step - loss: 0.4033 - accuracy: 0.8358 - val_loss: 0.4206 - val_accuracy: 0.8243\n",
      "Epoch 36/100\n",
      "4689/4689 [==============================] - 2s 339us/step - loss: 0.4030 - accuracy: 0.8343 - val_loss: 0.4194 - val_accuracy: 0.8248\n",
      "Epoch 37/100\n",
      "4689/4689 [==============================] - 1s 294us/step - loss: 0.4025 - accuracy: 0.8328 - val_loss: 0.4194 - val_accuracy: 0.8269\n",
      "Epoch 38/100\n",
      "4689/4689 [==============================] - 1s 315us/step - loss: 0.4021 - accuracy: 0.8345 - val_loss: 0.4193 - val_accuracy: 0.8269\n",
      "Epoch 39/100\n",
      "4689/4689 [==============================] - 1s 279us/step - loss: 0.4017 - accuracy: 0.8339 - val_loss: 0.4186 - val_accuracy: 0.8235\n",
      "Epoch 40/100\n",
      "4689/4689 [==============================] - 1s 275us/step - loss: 0.4012 - accuracy: 0.8328 - val_loss: 0.4188 - val_accuracy: 0.8239\n",
      "Epoch 41/100\n",
      "4689/4689 [==============================] - 1s 276us/step - loss: 0.4006 - accuracy: 0.8360 - val_loss: 0.4187 - val_accuracy: 0.8252\n",
      "Epoch 42/100\n",
      "4689/4689 [==============================] - 1s 274us/step - loss: 0.4005 - accuracy: 0.8349 - val_loss: 0.4200 - val_accuracy: 0.8265\n",
      "Epoch 43/100\n",
      "4689/4689 [==============================] - 1s 279us/step - loss: 0.4002 - accuracy: 0.8356 - val_loss: 0.4179 - val_accuracy: 0.8269\n",
      "Epoch 44/100\n",
      "4689/4689 [==============================] - 1s 298us/step - loss: 0.3994 - accuracy: 0.8354 - val_loss: 0.4191 - val_accuracy: 0.8273\n",
      "Epoch 45/100\n",
      "4689/4689 [==============================] - 2s 325us/step - loss: 0.3989 - accuracy: 0.8364 - val_loss: 0.4171 - val_accuracy: 0.8269\n",
      "Epoch 46/100\n",
      "4689/4689 [==============================] - 1s 306us/step - loss: 0.3983 - accuracy: 0.8375 - val_loss: 0.4175 - val_accuracy: 0.8256\n",
      "Epoch 47/100\n",
      "4689/4689 [==============================] - 1s 266us/step - loss: 0.3968 - accuracy: 0.8354 - val_loss: 0.4191 - val_accuracy: 0.8269\n",
      "Epoch 48/100\n",
      "4689/4689 [==============================] - 1s 282us/step - loss: 0.3980 - accuracy: 0.8369 - val_loss: 0.4169 - val_accuracy: 0.8265\n",
      "Epoch 49/100\n",
      "4689/4689 [==============================] - 1s 285us/step - loss: 0.3974 - accuracy: 0.8369 - val_loss: 0.4147 - val_accuracy: 0.8248\n",
      "Epoch 50/100\n",
      "4689/4689 [==============================] - 1s 281us/step - loss: 0.3965 - accuracy: 0.8369 - val_loss: 0.4147 - val_accuracy: 0.8265\n",
      "Epoch 51/100\n",
      "4689/4689 [==============================] - 1s 318us/step - loss: 0.3968 - accuracy: 0.8373 - val_loss: 0.4145 - val_accuracy: 0.8248\n",
      "Epoch 52/100\n",
      "4689/4689 [==============================] - 1s 284us/step - loss: 0.3964 - accuracy: 0.8349 - val_loss: 0.4145 - val_accuracy: 0.8265\n",
      "Epoch 53/100\n",
      "4689/4689 [==============================] - 1s 306us/step - loss: 0.3957 - accuracy: 0.8364 - val_loss: 0.4145 - val_accuracy: 0.8248\n",
      "Epoch 54/100\n",
      "4689/4689 [==============================] - 1s 293us/step - loss: 0.3953 - accuracy: 0.8362 - val_loss: 0.4131 - val_accuracy: 0.8243\n",
      "Epoch 55/100\n",
      "4689/4689 [==============================] - 1s 309us/step - loss: 0.3948 - accuracy: 0.8358 - val_loss: 0.4135 - val_accuracy: 0.8265\n",
      "Epoch 56/100\n",
      "4689/4689 [==============================] - 2s 358us/step - loss: 0.3943 - accuracy: 0.8373 - val_loss: 0.4128 - val_accuracy: 0.8269\n",
      "Epoch 57/100\n",
      "4689/4689 [==============================] - 1s 253us/step - loss: 0.3943 - accuracy: 0.8356 - val_loss: 0.4110 - val_accuracy: 0.8260\n",
      "Epoch 58/100\n",
      "4689/4689 [==============================] - 1s 244us/step - loss: 0.3934 - accuracy: 0.8358 - val_loss: 0.4111 - val_accuracy: 0.8291\n",
      "Epoch 59/100\n",
      "4689/4689 [==============================] - 1s 228us/step - loss: 0.3924 - accuracy: 0.8354 - val_loss: 0.4098 - val_accuracy: 0.8291\n",
      "Epoch 60/100\n",
      "4689/4689 [==============================] - 1s 285us/step - loss: 0.3907 - accuracy: 0.8388 - val_loss: 0.4122 - val_accuracy: 0.8265\n",
      "Epoch 61/100\n",
      "4689/4689 [==============================] - 1s 260us/step - loss: 0.3886 - accuracy: 0.8379 - val_loss: 0.4050 - val_accuracy: 0.8308\n",
      "Epoch 62/100\n",
      "4689/4689 [==============================] - 1s 233us/step - loss: 0.3852 - accuracy: 0.8409 - val_loss: 0.4011 - val_accuracy: 0.8321\n",
      "Epoch 63/100\n",
      "4689/4689 [==============================] - 1s 228us/step - loss: 0.3807 - accuracy: 0.8415 - val_loss: 0.3967 - val_accuracy: 0.8308\n",
      "Epoch 64/100\n",
      "4689/4689 [==============================] - 1s 234us/step - loss: 0.3751 - accuracy: 0.8467 - val_loss: 0.3911 - val_accuracy: 0.8347\n",
      "Epoch 65/100\n",
      "4689/4689 [==============================] - 1s 240us/step - loss: 0.3681 - accuracy: 0.8516 - val_loss: 0.3836 - val_accuracy: 0.8382\n",
      "Epoch 66/100\n",
      "4689/4689 [==============================] - 1s 257us/step - loss: 0.3603 - accuracy: 0.8535 - val_loss: 0.3796 - val_accuracy: 0.8412\n",
      "Epoch 67/100\n",
      "4689/4689 [==============================] - 1s 242us/step - loss: 0.3548 - accuracy: 0.8546 - val_loss: 0.3750 - val_accuracy: 0.8434\n",
      "Epoch 68/100\n",
      "4689/4689 [==============================] - 1s 226us/step - loss: 0.3506 - accuracy: 0.8590 - val_loss: 0.3719 - val_accuracy: 0.8442\n",
      "Epoch 69/100\n",
      "4689/4689 [==============================] - 1s 229us/step - loss: 0.3466 - accuracy: 0.8601 - val_loss: 0.3678 - val_accuracy: 0.8516\n",
      "Epoch 70/100\n",
      "4689/4689 [==============================] - 1s 265us/step - loss: 0.3438 - accuracy: 0.8592 - val_loss: 0.3656 - val_accuracy: 0.8520\n",
      "Epoch 71/100\n",
      "4689/4689 [==============================] - 1s 230us/step - loss: 0.3418 - accuracy: 0.8592 - val_loss: 0.3654 - val_accuracy: 0.8516\n",
      "Epoch 72/100\n",
      "4689/4689 [==============================] - 1s 247us/step - loss: 0.3402 - accuracy: 0.8627 - val_loss: 0.3653 - val_accuracy: 0.8503\n",
      "Epoch 73/100\n",
      "4689/4689 [==============================] - 2s 349us/step - loss: 0.3389 - accuracy: 0.8635 - val_loss: 0.3637 - val_accuracy: 0.8520\n",
      "Epoch 74/100\n",
      "4689/4689 [==============================] - 1s 299us/step - loss: 0.3374 - accuracy: 0.8605 - val_loss: 0.3639 - val_accuracy: 0.8516\n",
      "Epoch 75/100\n",
      "4689/4689 [==============================] - 1s 278us/step - loss: 0.3366 - accuracy: 0.8622 - val_loss: 0.3646 - val_accuracy: 0.8520\n",
      "Epoch 76/100\n",
      "4689/4689 [==============================] - 1s 238us/step - loss: 0.3361 - accuracy: 0.8616 - val_loss: 0.3643 - val_accuracy: 0.8507\n",
      "Epoch 77/100\n",
      "4689/4689 [==============================] - 1s 229us/step - loss: 0.3351 - accuracy: 0.8629 - val_loss: 0.3657 - val_accuracy: 0.8529\n",
      "Epoch 78/100\n",
      "4689/4689 [==============================] - 1s 266us/step - loss: 0.3357 - accuracy: 0.8607 - val_loss: 0.3648 - val_accuracy: 0.8511\n",
      "Epoch 79/100\n",
      "4689/4689 [==============================] - 1s 269us/step - loss: 0.3346 - accuracy: 0.8622 - val_loss: 0.3636 - val_accuracy: 0.8524\n",
      "Epoch 80/100\n",
      "4689/4689 [==============================] - 1s 309us/step - loss: 0.3343 - accuracy: 0.8622 - val_loss: 0.3630 - val_accuracy: 0.8537\n",
      "Epoch 81/100\n",
      "4689/4689 [==============================] - 1s 228us/step - loss: 0.3338 - accuracy: 0.8627 - val_loss: 0.3625 - val_accuracy: 0.8537\n",
      "Epoch 82/100\n",
      "4689/4689 [==============================] - 2s 415us/step - loss: 0.3336 - accuracy: 0.8631 - val_loss: 0.3617 - val_accuracy: 0.8555\n",
      "Epoch 83/100\n",
      "4689/4689 [==============================] - 2s 524us/step - loss: 0.3329 - accuracy: 0.8633 - val_loss: 0.3622 - val_accuracy: 0.8520\n",
      "Epoch 84/100\n",
      "4689/4689 [==============================] - 2s 375us/step - loss: 0.3330 - accuracy: 0.8633 - val_loss: 0.3629 - val_accuracy: 0.8537\n",
      "Epoch 85/100\n",
      "4689/4689 [==============================] - 1s 307us/step - loss: 0.3326 - accuracy: 0.8620 - val_loss: 0.3621 - val_accuracy: 0.8529\n",
      "Epoch 86/100\n",
      "4689/4689 [==============================] - 2s 365us/step - loss: 0.3310 - accuracy: 0.8631 - val_loss: 0.3669 - val_accuracy: 0.8524\n",
      "Epoch 87/100\n",
      "4689/4689 [==============================] - 2s 384us/step - loss: 0.3319 - accuracy: 0.8646 - val_loss: 0.3628 - val_accuracy: 0.8520\n",
      "Epoch 88/100\n",
      "4689/4689 [==============================] - 2s 357us/step - loss: 0.3317 - accuracy: 0.8646 - val_loss: 0.3620 - val_accuracy: 0.8507\n",
      "Epoch 89/100\n",
      "4689/4689 [==============================] - 2s 353us/step - loss: 0.3311 - accuracy: 0.8622 - val_loss: 0.3647 - val_accuracy: 0.8520\n",
      "Epoch 90/100\n",
      "4689/4689 [==============================] - 1s 294us/step - loss: 0.3309 - accuracy: 0.8629 - val_loss: 0.3634 - val_accuracy: 0.8503\n",
      "Epoch 91/100\n",
      "4689/4689 [==============================] - 1s 297us/step - loss: 0.3312 - accuracy: 0.8642 - val_loss: 0.3645 - val_accuracy: 0.8520\n",
      "Epoch 92/100\n",
      "4689/4689 [==============================] - 1s 317us/step - loss: 0.3315 - accuracy: 0.8631 - val_loss: 0.3619 - val_accuracy: 0.8542\n",
      "Epoch 93/100\n",
      "4689/4689 [==============================] - 2s 363us/step - loss: 0.3306 - accuracy: 0.8639 - val_loss: 0.3641 - val_accuracy: 0.8507\n",
      "Epoch 94/100\n",
      "4689/4689 [==============================] - 2s 373us/step - loss: 0.3311 - accuracy: 0.8627 - val_loss: 0.3606 - val_accuracy: 0.8524\n",
      "Epoch 95/100\n",
      "4689/4689 [==============================] - 1s 246us/step - loss: 0.3305 - accuracy: 0.8650 - val_loss: 0.3615 - val_accuracy: 0.8529\n",
      "Epoch 96/100\n",
      "4689/4689 [==============================] - 1s 236us/step - loss: 0.3304 - accuracy: 0.8648 - val_loss: 0.3614 - val_accuracy: 0.8537\n",
      "Epoch 97/100\n",
      "4689/4689 [==============================] - 1s 245us/step - loss: 0.3299 - accuracy: 0.8637 - val_loss: 0.3611 - val_accuracy: 0.8529\n",
      "Epoch 98/100\n",
      "4689/4689 [==============================] - 1s 231us/step - loss: 0.3301 - accuracy: 0.8646 - val_loss: 0.3605 - val_accuracy: 0.8546\n",
      "Epoch 99/100\n",
      "4689/4689 [==============================] - 1s 252us/step - loss: 0.3296 - accuracy: 0.8642 - val_loss: 0.3608 - val_accuracy: 0.8546\n",
      "Epoch 100/100\n",
      "4689/4689 [==============================] - 1s 232us/step - loss: 0.3295 - accuracy: 0.8648 - val_loss: 0.3616 - val_accuracy: 0.8524\n"
     ]
    }
   ],
   "source": [
    "model_history=classifier.fit(x_train,\n",
    "    y_train,\n",
    "    batch_size=10,\n",
    "    epochs=100,\n",
    "    verbose=1,\n",
    "    callbacks=None,\n",
    "    validation_split=0.33,\n",
    "    validation_data=None,\n",
    "    shuffle=True,\n",
    "    class_weight=None,\n",
    "    sample_weight=None,\n",
    "    initial_epoch=0,\n",
    "    steps_per_epoch=None,\n",
    "    validation_steps=None,\n",
    "    validation_freq=1,\n",
    "    max_queue_size=10,\n",
    "    workers=1,\n",
    "    use_multiprocessing=False,)"
   ]
  },
  {
   "cell_type": "code",
   "execution_count": 69,
   "metadata": {},
   "outputs": [
    {
     "name": "stdout",
     "output_type": "stream",
     "text": [
      "dict_keys(['val_loss', 'val_accuracy', 'loss', 'accuracy'])\n"
     ]
    }
   ],
   "source": [
    "print(model_history.history.keys())"
   ]
  },
  {
   "cell_type": "code",
   "execution_count": 70,
   "metadata": {},
   "outputs": [
    {
     "data": {
      "text/plain": [
       "<matplotlib.legend.Legend at 0x7fe3c0371eb8>"
      ]
     },
     "execution_count": 70,
     "metadata": {},
     "output_type": "execute_result"
    },
    {
     "data": {
      "image/png": "[encoded data removed]",
      "text/plain": [
       "<Figure size 432x288 with 1 Axes>"
      ]
     },
     "metadata": {
      "needs_background": "light"
     },
     "output_type": "display_data"
    }
   ],
   "source": [
    "plt.plot(model_history.history['accuracy'])\n",
    "plt.plot(model_history.history['val_accuracy'])\n",
    "plt.title('model accuracy')\n",
    "plt.ylabel('accuracy')\n",
    "plt.xlabel('epochs')\n",
    "plt.legend(['train','test'],loc='upper left')"
   ]
  },
  {
   "cell_type": "code",
   "execution_count": 71,
   "metadata": {},
   "outputs": [
    {
     "data": {
      "text/plain": [
       "<matplotlib.legend.Legend at 0x7fe3c02cea90>"
      ]
     },
     "execution_count": 71,
     "metadata": {},
     "output_type": "execute_result"
    },
    {
     "data": {
      "image/png": "[encoded data removed]",
      "text/plain": [
       "<Figure size 432x288 with 1 Axes>"
      ]
     },
     "metadata": {
      "needs_background": "light"
     },
     "output_type": "display_data"
    }
   ],
   "source": [
    "plt.plot(model_history.history['loss'])\n",
    "plt.plot(model_history.history['val_loss'])\n",
    "plt.title('model loss')\n",
    "plt.ylabel('loss')\n",
    "plt.xlabel('epochs')\n",
    "plt.legend(['train','test'],loc='upper left')"
   ]
  },
  {
   "cell_type": "code",
   "execution_count": 72,
   "metadata": {},
   "outputs": [],
   "source": [
    "pred_y=classifier.predict(x_test)\n",
    "pred_y=(pred_y>0.5)"
   ]
  },
  {
   "cell_type": "code",
   "execution_count": 73,
   "metadata": {},
   "outputs": [],
   "source": [
    "from sklearn.metrics import accuracy_score,confusion_matrix"
   ]
  },
  {
   "cell_type": "code",
   "execution_count": 74,
   "metadata": {},
   "outputs": [
    {
     "data": {
      "text/plain": [
       "array([[2297,   82],\n",
       "       [ 338,  283]])"
      ]
     },
     "execution_count": 74,
     "metadata": {},
     "output_type": "execute_result"
    }
   ],
   "source": [
    "cm=confusion_matrix(y_test,pred_y)\n",
    "cm"
   ]
  },
  {
   "cell_type": "code",
   "execution_count": 76,
   "metadata": {},
   "outputs": [
    {
     "data": {
      "text/plain": [
       "86.0"
      ]
     },
     "execution_count": 76,
     "metadata": {},
     "output_type": "execute_result"
    }
   ],
   "source": [
    "score=accuracy_score(y_test,pred_y)\n",
    "score*100"
   ]
  },
  {
   "cell_type": "code",
   "execution_count": null,
   "metadata": {},
   "outputs": [],
   "source": []
  },
  {
   "cell_type": "code",
   "execution_count": null,
   "metadata": {},
   "outputs": [],
   "source": []
  },
  {
   "cell_type": "code",
   "execution_count": null,
   "metadata": {},
   "outputs": [],
   "source": []
  }
 ],
 "metadata": {
  "kernelspec": {
   "display_name": "Python 3",
   "language": "python",
   "name": "python3"
  },
  "language_info": {
   "codemirror_mode": {
    "name": "ipython",
    "version": 3
   },
   "file_extension": ".py",
   "mimetype": "text/x-python",
   "name": "python",
   "nbconvert_exporter": "python",
   "pygments_lexer": "ipython3",
   "version": "3.6.9"
  }
 },
 "nbformat": 4,
 "nbformat_minor": 2
}
